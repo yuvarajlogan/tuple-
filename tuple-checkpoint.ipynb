{
 "cells": [
  {
   "cell_type": "code",
   "execution_count": 8,
   "id": "853da274",
   "metadata": {},
   "outputs": [
    {
     "name": "stdout",
     "output_type": "stream",
     "text": [
      "126\n",
      "<class 'int'>\n",
      "(42, 42, 42)\n",
      "<class 'tuple'>\n"
     ]
    }
   ],
   "source": [
    "# Tuples \n",
    "#initializing a\n",
    "a= 3*(40+2)\n",
    "print (a)\n",
    "#Type of a\n",
    "print (type(a))\n",
    "#initializing b adding ,\n",
    "b=3*(40+2,)\n",
    "print(b)\n",
    "#type of b\n",
    "print(type(b))"
   ]
  },
  {
   "cell_type": "code",
   "execution_count": null,
   "id": "684a5826",
   "metadata": {},
   "outputs": [],
   "source": []
  }
 ],
 "metadata": {
  "kernelspec": {
   "display_name": "Python 3 (ipykernel)",
   "language": "python",
   "name": "python3"
  },
  "language_info": {
   "codemirror_mode": {
    "name": "ipython",
    "version": 3
   },
   "file_extension": ".py",
   "mimetype": "text/x-python",
   "name": "python",
   "nbconvert_exporter": "python",
   "pygments_lexer": "ipython3",
   "version": "3.9.6"
  }
 },
 "nbformat": 4,
 "nbformat_minor": 5
}
